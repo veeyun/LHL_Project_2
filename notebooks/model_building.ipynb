{
 "cells": [
  {
   "cell_type": "markdown",
   "metadata": {},
   "source": [
    "# Build a regression model."
   ]
  },
  {
   "cell_type": "code",
   "execution_count": 18,
   "metadata": {},
   "outputs": [],
   "source": [
    "import pandas as pd\n",
    "import numpy as np\n",
    "import requests\n",
    "import datetime\n",
    "import statsmodels.api as sm\n",
    "import seaborn as sns\n",
    "import matplotlib.pyplot as plt\n",
    "import os\n",
    "%matplotlib inline \n",
    "sns.set(color_codes=True)"
   ]
  },
  {
   "cell_type": "code",
   "execution_count": 29,
   "metadata": {},
   "outputs": [
    {
     "data": {
      "text/html": [
       "<div>\n",
       "<style scoped>\n",
       "    .dataframe tbody tr th:only-of-type {\n",
       "        vertical-align: middle;\n",
       "    }\n",
       "\n",
       "    .dataframe tbody tr th {\n",
       "        vertical-align: top;\n",
       "    }\n",
       "\n",
       "    .dataframe thead th {\n",
       "        text-align: right;\n",
       "    }\n",
       "</style>\n",
       "<table border=\"1\" class=\"dataframe\">\n",
       "  <thead>\n",
       "    <tr style=\"text-align: right;\">\n",
       "      <th></th>\n",
       "      <th>empty_slots</th>\n",
       "      <th>free_bikes</th>\n",
       "      <th>Station_ID</th>\n",
       "      <th>station_latitude</th>\n",
       "      <th>station_longitude</th>\n",
       "      <th>station_name</th>\n",
       "      <th>extra.slots</th>\n",
       "      <th>extra.status</th>\n",
       "      <th>Station Name</th>\n",
       "      <th>FSQ_ID</th>\n",
       "      <th>...</th>\n",
       "      <th>Longitude</th>\n",
       "      <th>Distance</th>\n",
       "      <th>Address</th>\n",
       "      <th>Category name</th>\n",
       "      <th>Rating</th>\n",
       "      <th>Popularity</th>\n",
       "      <th>Price</th>\n",
       "      <th>Total Photos</th>\n",
       "      <th>Total Ratings</th>\n",
       "      <th>Total Tips</th>\n",
       "    </tr>\n",
       "  </thead>\n",
       "  <tbody>\n",
       "    <tr>\n",
       "      <th>0</th>\n",
       "      <td>19</td>\n",
       "      <td>16</td>\n",
       "      <td>7a19c49f486d7c0c02b3685d7b240448</td>\n",
       "      <td>49.262487</td>\n",
       "      <td>-123.114397</td>\n",
       "      <td>0001 10th &amp; Cambie</td>\n",
       "      <td>35</td>\n",
       "      <td>online</td>\n",
       "      <td>0001 10th &amp; Cambie</td>\n",
       "      <td>4b1db335f964a520211424e3</td>\n",
       "      <td>...</td>\n",
       "      <td>-123.113942</td>\n",
       "      <td>96</td>\n",
       "      <td>451W Broadway W (at Cambie St), Vancouver BC V...</td>\n",
       "      <td>Café</td>\n",
       "      <td>8.2</td>\n",
       "      <td>0.953849</td>\n",
       "      <td>2.0</td>\n",
       "      <td>128.0</td>\n",
       "      <td>111.0</td>\n",
       "      <td>32.0</td>\n",
       "    </tr>\n",
       "  </tbody>\n",
       "</table>\n",
       "<p>1 rows × 22 columns</p>\n",
       "</div>"
      ],
      "text/plain": [
       "   empty_slots  free_bikes                        Station_ID  \\\n",
       "0           19          16  7a19c49f486d7c0c02b3685d7b240448   \n",
       "\n",
       "   station_latitude  station_longitude        station_name  extra.slots  \\\n",
       "0         49.262487        -123.114397  0001 10th & Cambie           35   \n",
       "\n",
       "  extra.status        Station Name                    FSQ_ID  ...   Longitude  \\\n",
       "0       online  0001 10th & Cambie  4b1db335f964a520211424e3  ... -123.113942   \n",
       "\n",
       "   Distance                                            Address  Category name  \\\n",
       "0        96  451W Broadway W (at Cambie St), Vancouver BC V...           Café   \n",
       "\n",
       "  Rating Popularity  Price  Total Photos  Total Ratings  Total Tips  \n",
       "0    8.2   0.953849    2.0         128.0          111.0        32.0  \n",
       "\n",
       "[1 rows x 22 columns]"
      ]
     },
     "metadata": {},
     "output_type": "display_data"
    }
   ],
   "source": [
    "df_bikes_fsq = pd.read_csv(\"../data/bikes_fsq_data.csv\", index_col=0)\n",
    "display(df_bikes_fsq.head(1))"
   ]
  },
  {
   "cell_type": "code",
   "execution_count": 20,
   "metadata": {},
   "outputs": [
    {
     "data": {
      "text/plain": [
       "empty_slots            int64\n",
       "free_bikes             int64\n",
       "Station_ID            object\n",
       "station_latitude     float64\n",
       "station_longitude    float64\n",
       "station_name          object\n",
       "extra.slots            int64\n",
       "extra.status          object\n",
       "Station Name          object\n",
       "FSQ_ID                object\n",
       "Venue Name            object\n",
       "Latitude             float64\n",
       "Longitude            float64\n",
       "Distance               int64\n",
       "Address               object\n",
       "Category name         object\n",
       "Rating               float64\n",
       "Popularity           float64\n",
       "Price                float64\n",
       "Total Photos         float64\n",
       "Total Ratings        float64\n",
       "Total Tips           float64\n",
       "dtype: object"
      ]
     },
     "execution_count": 20,
     "metadata": {},
     "output_type": "execute_result"
    }
   ],
   "source": [
    "df_bikes_fsq.dtypes"
   ]
  },
  {
   "cell_type": "code",
   "execution_count": 25,
   "metadata": {},
   "outputs": [
    {
     "name": "stdout",
     "output_type": "stream",
     "text": [
      "                            OLS Regression Results                            \n",
      "==============================================================================\n",
      "Dep. Variable:           Total Photos   R-squared:                       0.002\n",
      "Model:                            OLS   Adj. R-squared:                  0.001\n",
      "Method:                 Least Squares   F-statistic:                     6.039\n",
      "Date:                Mon, 07 Nov 2022   Prob (F-statistic):             0.0140\n",
      "Time:                        09:35:05   Log-Likelihood:                -19344.\n",
      "No. Observations:                3579   AIC:                         3.869e+04\n",
      "Df Residuals:                    3577   BIC:                         3.870e+04\n",
      "Df Model:                           1                                         \n",
      "Covariance Type:            nonrobust                                         \n",
      "==============================================================================\n",
      "                 coef    std err          t      P>|t|      [0.025      0.975]\n",
      "------------------------------------------------------------------------------\n",
      "const         58.0693      1.623     35.783      0.000      54.888      61.251\n",
      "free_bikes     0.3842      0.156      2.457      0.014       0.078       0.691\n",
      "==============================================================================\n",
      "Omnibus:                      632.858   Durbin-Watson:                   1.895\n",
      "Prob(Omnibus):                  0.000   Jarque-Bera (JB):             1016.635\n",
      "Skew:                           1.227   Prob(JB):                    1.74e-221\n",
      "Kurtosis:                       3.891   Cond. No.                         18.8\n",
      "==============================================================================\n",
      "\n",
      "Notes:\n",
      "[1] Standard Errors assume that the covariance matrix of the errors is correctly specified.\n"
     ]
    }
   ],
   "source": [
    "y = df_bikes_fsq['Total Photos']\n",
    "X = df_bikes_fsq['free_bikes']\n",
    "X = sm.add_constant(X) #adds a column of 1's so the model will contain an intercept\n",
    "\n",
    "model = sm.OLS(y, X) #instantiate\n",
    "results = model.fit() #fit the model (this is where OLS is actually being run)\n",
    "print(results.summary())"
   ]
  },
  {
   "cell_type": "code",
   "execution_count": 26,
   "metadata": {},
   "outputs": [
    {
     "name": "stdout",
     "output_type": "stream",
     "text": [
      "                            OLS Regression Results                            \n",
      "==============================================================================\n",
      "Dep. Variable:             Popularity   R-squared:                       0.003\n",
      "Model:                            OLS   Adj. R-squared:                  0.003\n",
      "Method:                 Least Squares   F-statistic:                     10.19\n",
      "Date:                Mon, 07 Nov 2022   Prob (F-statistic):            0.00142\n",
      "Time:                        09:35:12   Log-Likelihood:                 5912.8\n",
      "No. Observations:                3579   AIC:                        -1.182e+04\n",
      "Df Residuals:                    3577   BIC:                        -1.181e+04\n",
      "Df Model:                           1                                         \n",
      "Covariance Type:            nonrobust                                         \n",
      "==============================================================================\n",
      "                 coef    std err          t      P>|t|      [0.025      0.975]\n",
      "------------------------------------------------------------------------------\n",
      "const          0.9296      0.001    664.941      0.000       0.927       0.932\n",
      "free_bikes     0.0004      0.000      3.193      0.001       0.000       0.001\n",
      "==============================================================================\n",
      "Omnibus:                      361.719   Durbin-Watson:                   1.887\n",
      "Prob(Omnibus):                  0.000   Jarque-Bera (JB):              481.679\n",
      "Skew:                          -0.898   Prob(JB):                    2.54e-105\n",
      "Kurtosis:                       2.929   Cond. No.                         18.8\n",
      "==============================================================================\n",
      "\n",
      "Notes:\n",
      "[1] Standard Errors assume that the covariance matrix of the errors is correctly specified.\n"
     ]
    }
   ],
   "source": [
    "y = df_bikes_fsq['Popularity']\n",
    "X = df_bikes_fsq['free_bikes']\n",
    "X = sm.add_constant(X) #adds a column of 1's so the model will contain an intercept\n",
    "\n",
    "model = sm.OLS(y, X) #instantiate\n",
    "results = model.fit() #fit the model (this is where OLS is actually being run)\n",
    "print(results.summary())"
   ]
  },
  {
   "cell_type": "code",
   "execution_count": 27,
   "metadata": {},
   "outputs": [
    {
     "name": "stdout",
     "output_type": "stream",
     "text": [
      "                            OLS Regression Results                            \n",
      "==============================================================================\n",
      "Dep. Variable:          Total Ratings   R-squared:                       0.004\n",
      "Model:                            OLS   Adj. R-squared:                  0.004\n",
      "Method:                 Least Squares   F-statistic:                     13.73\n",
      "Date:                Mon, 07 Nov 2022   Prob (F-statistic):           0.000215\n",
      "Time:                        09:35:15   Log-Likelihood:                -18433.\n",
      "No. Observations:                3579   AIC:                         3.687e+04\n",
      "Df Residuals:                    3577   BIC:                         3.688e+04\n",
      "Df Model:                           1                                         \n",
      "Covariance Type:            nonrobust                                         \n",
      "===============================================================================\n",
      "                  coef    std err          t      P>|t|      [0.025      0.975]\n",
      "-------------------------------------------------------------------------------\n",
      "const          43.5338      2.590     16.810      0.000      38.456      48.611\n",
      "extra.slots     0.4899      0.132      3.705      0.000       0.231       0.749\n",
      "==============================================================================\n",
      "Omnibus:                      530.927   Durbin-Watson:                   1.880\n",
      "Prob(Omnibus):                  0.000   Jarque-Bera (JB):              790.739\n",
      "Skew:                           1.108   Prob(JB):                    1.96e-172\n",
      "Kurtosis:                       3.628   Cond. No.                         72.9\n",
      "==============================================================================\n",
      "\n",
      "Notes:\n",
      "[1] Standard Errors assume that the covariance matrix of the errors is correctly specified.\n"
     ]
    }
   ],
   "source": [
    "y = df_bikes_fsq['Total Ratings']\n",
    "X = df_bikes_fsq['extra.slots']\n",
    "X = sm.add_constant(X) #adds a column of 1's so the model will contain an intercept\n",
    "\n",
    "model = sm.OLS(y, X) #instantiate\n",
    "results = model.fit() #fit the model (this is where OLS is actually being run)\n",
    "print(results.summary())"
   ]
  },
  {
   "cell_type": "markdown",
   "metadata": {},
   "source": [
    "Provide model output and an interpretation of the results. "
   ]
  },
  {
   "cell_type": "code",
   "execution_count": null,
   "metadata": {},
   "outputs": [],
   "source": [
    "p"
   ]
  },
  {
   "cell_type": "markdown",
   "metadata": {},
   "source": [
    "# Stretch"
   ]
  },
  {
   "cell_type": "markdown",
   "metadata": {},
   "source": [
    "How can you turn the regression model into a classification model?"
   ]
  },
  {
   "cell_type": "code",
   "execution_count": null,
   "metadata": {},
   "outputs": [],
   "source": []
  }
 ],
 "metadata": {
  "kernelspec": {
   "display_name": "LHL_env",
   "language": "python",
   "name": "lhl_env"
  },
  "language_info": {
   "codemirror_mode": {
    "name": "ipython",
    "version": 3
   },
   "file_extension": ".py",
   "mimetype": "text/x-python",
   "name": "python",
   "nbconvert_exporter": "python",
   "pygments_lexer": "ipython3",
   "version": "3.9.13"
  }
 },
 "nbformat": 4,
 "nbformat_minor": 4
}
