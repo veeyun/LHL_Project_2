{
 "cells": [
  {
   "cell_type": "markdown",
   "metadata": {},
   "source": [
    "Build a regression model."
   ]
  },
  {
   "cell_type": "code",
   "execution_count": 6,
   "metadata": {},
   "outputs": [],
   "source": [
    "import pandas as pd\n",
    "import numpy as np\n",
    "import requests\n",
    "import datetime\n",
    "import statsmodels.api as sm\n",
    "import seaborn as sns\n",
    "import matplotlib.pyplot as plt\n",
    "import os\n",
    "%matplotlib inline \n",
    "sns.set(color_codes=True)"
   ]
  },
  {
   "cell_type": "code",
   "execution_count": 5,
   "metadata": {},
   "outputs": [
    {
     "data": {
      "text/html": [
       "<div>\n",
       "<style scoped>\n",
       "    .dataframe tbody tr th:only-of-type {\n",
       "        vertical-align: middle;\n",
       "    }\n",
       "\n",
       "    .dataframe tbody tr th {\n",
       "        vertical-align: top;\n",
       "    }\n",
       "\n",
       "    .dataframe thead th {\n",
       "        text-align: right;\n",
       "    }\n",
       "</style>\n",
       "<table border=\"1\" class=\"dataframe\">\n",
       "  <thead>\n",
       "    <tr style=\"text-align: right;\">\n",
       "      <th></th>\n",
       "      <th>empty_slots</th>\n",
       "      <th>free_bikes</th>\n",
       "      <th>Station_ID</th>\n",
       "      <th>station_latitude</th>\n",
       "      <th>station_longitude</th>\n",
       "      <th>station_name</th>\n",
       "      <th>extra.slots</th>\n",
       "      <th>extra.status</th>\n",
       "      <th>Station Name</th>\n",
       "      <th>FSQ_ID</th>\n",
       "      <th>...</th>\n",
       "      <th>Longitude</th>\n",
       "      <th>Distance</th>\n",
       "      <th>Address</th>\n",
       "      <th>Category name</th>\n",
       "      <th>Rating</th>\n",
       "      <th>Popularity</th>\n",
       "      <th>Price</th>\n",
       "      <th>Total Photos</th>\n",
       "      <th>Total Ratings</th>\n",
       "      <th>Total Tips</th>\n",
       "    </tr>\n",
       "  </thead>\n",
       "  <tbody>\n",
       "    <tr>\n",
       "      <th>0</th>\n",
       "      <td>19</td>\n",
       "      <td>16</td>\n",
       "      <td>7a19c49f486d7c0c02b3685d7b240448</td>\n",
       "      <td>49.262487</td>\n",
       "      <td>-123.114397</td>\n",
       "      <td>0001 10th &amp; Cambie</td>\n",
       "      <td>35</td>\n",
       "      <td>online</td>\n",
       "      <td>0001 10th &amp; Cambie</td>\n",
       "      <td>4fd3a01be4b0540d9cb027ea</td>\n",
       "      <td>...</td>\n",
       "      <td>-123.115171</td>\n",
       "      <td>57</td>\n",
       "      <td>2559 Cambie St (btwn W Broadway &amp; W 10th Ave),...</td>\n",
       "      <td>Café</td>\n",
       "      <td>8.0</td>\n",
       "      <td>0.221702</td>\n",
       "      <td>1.0</td>\n",
       "      <td>67.0</td>\n",
       "      <td>55.0</td>\n",
       "      <td>18.0</td>\n",
       "    </tr>\n",
       "  </tbody>\n",
       "</table>\n",
       "<p>1 rows × 22 columns</p>\n",
       "</div>"
      ],
      "text/plain": [
       "   empty_slots  free_bikes                        Station_ID  \\\n",
       "0           19          16  7a19c49f486d7c0c02b3685d7b240448   \n",
       "\n",
       "   station_latitude  station_longitude        station_name  extra.slots  \\\n",
       "0         49.262487        -123.114397  0001 10th & Cambie           35   \n",
       "\n",
       "  extra.status        Station Name                    FSQ_ID  ...   Longitude  \\\n",
       "0       online  0001 10th & Cambie  4fd3a01be4b0540d9cb027ea  ... -123.115171   \n",
       "\n",
       "   Distance                                            Address  Category name  \\\n",
       "0        57  2559 Cambie St (btwn W Broadway & W 10th Ave),...           Café   \n",
       "\n",
       "  Rating Popularity  Price  Total Photos  Total Ratings  Total Tips  \n",
       "0    8.0   0.221702    1.0          67.0           55.0        18.0  \n",
       "\n",
       "[1 rows x 22 columns]"
      ]
     },
     "metadata": {},
     "output_type": "display_data"
    }
   ],
   "source": [
    "df_bikes_fsq = pd.read_csv(\"../data/bikes_fsq_data.csv\", index_col=0)\n",
    "display(df_bikes_fsq.head(1))"
   ]
  },
  {
   "cell_type": "code",
   "execution_count": 9,
   "metadata": {},
   "outputs": [
    {
     "data": {
      "text/plain": [
       "empty_slots            int64\n",
       "free_bikes             int64\n",
       "Station_ID            object\n",
       "station_latitude     float64\n",
       "station_longitude    float64\n",
       "station_name          object\n",
       "extra.slots            int64\n",
       "extra.status          object\n",
       "Station Name          object\n",
       "FSQ_ID                object\n",
       "Venue Name            object\n",
       "Latitude             float64\n",
       "Longitude            float64\n",
       "Distance               int64\n",
       "Address               object\n",
       "Category name         object\n",
       "Rating               float64\n",
       "Popularity           float64\n",
       "Price                float64\n",
       "Total Photos         float64\n",
       "Total Ratings        float64\n",
       "Total Tips           float64\n",
       "dtype: object"
      ]
     },
     "execution_count": 9,
     "metadata": {},
     "output_type": "execute_result"
    }
   ],
   "source": [
    "df_bikes_fsq.dtypes"
   ]
  },
  {
   "cell_type": "code",
   "execution_count": 15,
   "metadata": {},
   "outputs": [
    {
     "name": "stdout",
     "output_type": "stream",
     "text": [
      "                            OLS Regression Results                            \n",
      "==============================================================================\n",
      "Dep. Variable:           Total Photos   R-squared:                         nan\n",
      "Model:                            OLS   Adj. R-squared:                    nan\n",
      "Method:                 Least Squares   F-statistic:                       nan\n",
      "Date:                Mon, 07 Nov 2022   Prob (F-statistic):                nan\n",
      "Time:                        00:02:31   Log-Likelihood:                    nan\n",
      "No. Observations:                6353   AIC:                               nan\n",
      "Df Residuals:                    6351   BIC:                               nan\n",
      "Df Model:                           1                                         \n",
      "Covariance Type:            nonrobust                                         \n",
      "==============================================================================\n",
      "                 coef    std err          t      P>|t|      [0.025      0.975]\n",
      "------------------------------------------------------------------------------\n",
      "const             nan        nan        nan        nan         nan         nan\n",
      "free_bikes        nan        nan        nan        nan         nan         nan\n",
      "==============================================================================\n",
      "Omnibus:                          nan   Durbin-Watson:                     nan\n",
      "Prob(Omnibus):                    nan   Jarque-Bera (JB):                  nan\n",
      "Skew:                             nan   Prob(JB):                          nan\n",
      "Kurtosis:                         nan   Cond. No.                         19.2\n",
      "==============================================================================\n",
      "\n",
      "Notes:\n",
      "[1] Standard Errors assume that the covariance matrix of the errors is correctly specified.\n"
     ]
    }
   ],
   "source": [
    "y = df_bikes_fsq['Total Photos']\n",
    "X = df_bikes_fsq['free_bikes']\n",
    "X = sm.add_constant(X) #adds a column of 1's so the model will contain an intercept\n",
    "\n",
    "model = sm.OLS(y, X) #instantiate\n",
    "results = model.fit() #fit the model (this is where OLS is actually being run)\n",
    "print(results.summary())"
   ]
  },
  {
   "cell_type": "code",
   "execution_count": 10,
   "metadata": {},
   "outputs": [
    {
     "name": "stdout",
     "output_type": "stream",
     "text": [
      "                            OLS Regression Results                            \n",
      "==============================================================================\n",
      "Dep. Variable:             Popularity   R-squared:                       0.000\n",
      "Model:                            OLS   Adj. R-squared:                  0.000\n",
      "Method:                 Least Squares   F-statistic:                     3.055\n",
      "Date:                Sun, 06 Nov 2022   Prob (F-statistic):             0.0805\n",
      "Time:                        23:59:11   Log-Likelihood:                 3012.0\n",
      "No. Observations:                6353   AIC:                            -6020.\n",
      "Df Residuals:                    6351   BIC:                            -6006.\n",
      "Df Model:                           1                                         \n",
      "Covariance Type:            nonrobust                                         \n",
      "==============================================================================\n",
      "                 coef    std err          t      P>|t|      [0.025      0.975]\n",
      "------------------------------------------------------------------------------\n",
      "const          0.8907      0.003    257.749      0.000       0.884       0.897\n",
      "free_bikes     0.0006      0.000      1.748      0.081   -7.05e-05       0.001\n",
      "==============================================================================\n",
      "Omnibus:                     4608.568   Durbin-Watson:                   2.010\n",
      "Prob(Omnibus):                  0.000   Jarque-Bera (JB):            58864.104\n",
      "Skew:                          -3.506   Prob(JB):                         0.00\n",
      "Kurtosis:                      16.160   Cond. No.                         19.2\n",
      "==============================================================================\n",
      "\n",
      "Notes:\n",
      "[1] Standard Errors assume that the covariance matrix of the errors is correctly specified.\n"
     ]
    }
   ],
   "source": [
    "y = df_bikes_fsq['Popularity']\n",
    "X = df_bikes_fsq['free_bikes']\n",
    "X = sm.add_constant(X) #adds a column of 1's so the model will contain an intercept\n",
    "\n",
    "model = sm.OLS(y, X) #instantiate\n",
    "results = model.fit() #fit the model (this is where OLS is actually being run)\n",
    "print(results.summary())"
   ]
  },
  {
   "cell_type": "markdown",
   "metadata": {},
   "source": [
    "Provide model output and an interpretation of the results. "
   ]
  },
  {
   "cell_type": "code",
   "execution_count": null,
   "metadata": {},
   "outputs": [],
   "source": []
  },
  {
   "cell_type": "markdown",
   "metadata": {},
   "source": [
    "# Stretch"
   ]
  },
  {
   "cell_type": "markdown",
   "metadata": {},
   "source": [
    "How can you turn the regression model into a classification model?"
   ]
  },
  {
   "cell_type": "code",
   "execution_count": null,
   "metadata": {},
   "outputs": [],
   "source": []
  }
 ],
 "metadata": {
  "kernelspec": {
   "display_name": "LHL_env",
   "language": "python",
   "name": "lhl_env"
  },
  "language_info": {
   "codemirror_mode": {
    "name": "ipython",
    "version": 3
   },
   "file_extension": ".py",
   "mimetype": "text/x-python",
   "name": "python",
   "nbconvert_exporter": "python",
   "pygments_lexer": "ipython3",
   "version": "3.9.13"
  }
 },
 "nbformat": 4,
 "nbformat_minor": 4
}
