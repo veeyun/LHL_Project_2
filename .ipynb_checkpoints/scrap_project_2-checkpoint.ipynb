{
 "cells": [
  {
   "cell_type": "code",
   "execution_count": null,
   "id": "6ed23f0d",
   "metadata": {},
   "outputs": [],
   "source": [
    "# FOURSQUARE "
   ]
  },
  {
   "cell_type": "code",
   "execution_count": null,
   "id": "55d4d502",
   "metadata": {},
   "outputs": [],
   "source": [
    "# # Call the function for 'get_foursquare_POI' -- take a for loop over all the bike station long and lat:\n",
    "\n",
    "# query_name = \"coffee\"\n",
    "\n",
    "# station_names = df_bikes[\"name\"]\n",
    "# station_longs = df_bikes[\"longitude\"]\n",
    "# station_lats = df_bikes[\"latitude\"]\n",
    "\n",
    "# frames = []\n",
    "# for station, lat, long in zip(station_names, station_lats, station_longs):\n",
    "    \n",
    "    \n",
    "#     ll_value = str(lat) + \",\" + str(long)\n",
    "    \n",
    "#     frames.append(get_foursquare_POI(query_name, station, ll_value))  # get POI based on bike stations\n",
    "\n",
    "# df_cafe = pd.concat(frames)  # combining all dataframes in one\n",
    "\n",
    "# display(df_cafe)"
   ]
  },
  {
   "cell_type": "code",
   "execution_count": null,
   "id": "fec531c3",
   "metadata": {},
   "outputs": [],
   "source": [
    "# query_name = \"restaurant\"\n",
    "\n",
    "# station_names = df_bikes[\"name\"]\n",
    "# station_longs = df_bikes[\"longitude\"]\n",
    "# station_lats = df_bikes[\"latitude\"]\n",
    "\n",
    "# frames = []\n",
    "# for station, lat, long in zip(station_names, station_lats, station_longs):    \n",
    "#     ll_value = str(lat) + \",\" + str(long)\n",
    "    \n",
    "#     frames.append(get_POI(query_name, station, ll_value))\n",
    "\n",
    "# df_restaurant = pd.concat(frames)\n",
    "# display(df_restaurant)"
   ]
  },
  {
   "cell_type": "code",
   "execution_count": null,
   "id": "21f5b164",
   "metadata": {},
   "outputs": [],
   "source": [
    "# query_name = \"bars\"\n",
    "\n",
    "# station_names = df_bikes[\"name\"]\n",
    "# station_longs = df_bikes[\"longitude\"]\n",
    "# station_lats = df_bikes[\"latitude\"]\n",
    "\n",
    "# frames = []\n",
    "# for station, lat, long in zip(station_names, station_lats, station_longs):    \n",
    "#     ll_value = str(lat) + \",\" + str(long)\n",
    "    \n",
    "#     frames.append(get_POI(query_name, station, ll_value))\n",
    "\n",
    "# df_bars = pd.concat(frames)\n",
    "# display(df_bars)"
   ]
  },
  {
   "cell_type": "code",
   "execution_count": null,
   "id": "40419065",
   "metadata": {},
   "outputs": [],
   "source": [
    "# df_all = pd.concat([df_cafe, df_restaurant, df_bars])\n",
    "\n",
    "# display(df_all)"
   ]
  },
  {
   "cell_type": "code",
   "execution_count": null,
   "id": "f68c2c93",
   "metadata": {},
   "outputs": [],
   "source": [
    "##  YELP\n",
    "\n",
    "CALL\n",
    "\n",
    "# Call def get_yelp_POI(query_name, station_name, ll_value):\n",
    "\n",
    "# query_name = \"bars\"\n",
    "\n",
    "# station_names = df_bikes[\"name\"]\n",
    "# station_longs = df_bikes[\"longitude\"]\n",
    "# station_lats = df_bikes[\"latitude\"]\n",
    "\n",
    "# dataframes = []\n",
    "\n",
    "# for station, lat, long in zip(station_names, station_lats, station_longs):    \n",
    "#     ll_value = [lat, long]  ## in a list because Yelp API has lat & long as sep params\n",
    "    \n",
    "#     # get all POI around each bike stations, and add it to the 'all_dataframes' list\n",
    "#     dataframes.append(get_yelp_POI(query_name, station, ll_value))\n",
    "\n",
    "# df_bars = pd.concat(dataframes)\n",
    "\n",
    "# display(df_bars)"
   ]
  },
  {
   "cell_type": "code",
   "execution_count": null,
   "id": "ed83ef38",
   "metadata": {},
   "outputs": [],
   "source": []
  },
  {
   "cell_type": "code",
   "execution_count": null,
   "id": "c102d8d1",
   "metadata": {},
   "outputs": [],
   "source": [
    "# Get bike networks from city\n",
    "\n",
    "def bike_networks_from_city(city):\n",
    "    '''\n",
    "    Get all network data from a particular city\n",
    "    '''\n",
    "    \n",
    "    bike_networks = requests.get(\"https://api.citybik.es/v2/networks\").json() # Query the API for all network data in JSON format\n",
    "    \n",
    "    list_of_dict = []  # create return variable, making a list of dictionaries\n",
    "    \n",
    "    for network in bike_networks['networks']: # iterate through each network in the JSON response\n",
    "        \n",
    "        network_city_name = network['location']['city'] # extract the city from each network\n",
    "        \n",
    "        # if the extracted city is equal to the one we want, get the network data from the city\n",
    "        if network_city_name.lower() == city.lower():\n",
    "            list_of_dict.append(network)\n",
    "\n",
    "    return list_of_dict\n",
    "\n",
    "## Get all bike station data\n",
    "\n",
    "# define city, created variable called city\n",
    "city = \"Vancouver\"\n",
    "\n",
    "# get all bike networks from city (call function)\n",
    "city_networks = bike_networks_from_city(city)\n",
    "\n",
    "# select network-ID for city from city_networks:\n",
    "network_id = city_networks[0]['id']        # city_networks was called in the function above\n",
    "\n",
    "print(\"The network ID is: \", network_id)\n",
    "\n",
    "# get response from API for network-ID\n",
    "network_json = requests.get(\"http://api.citybik.es/v2/networks/\"+network_id).json()\n",
    "\n",
    "## for station in network_json[\"network\"]['stations']:\n",
    "# Get longitude, latitude and number of free bikes into Pandas dataframe\n",
    "\n",
    "df_bikes = pd.json_normalize(network_json[\"network\"]['stations'])\n",
    "\n",
    "display(df_bikes)"
   ]
  },
  {
   "cell_type": "code",
   "execution_count": null,
   "id": "f2a88f98",
   "metadata": {},
   "outputs": [],
   "source": []
  },
  {
   "cell_type": "code",
   "execution_count": null,
   "id": "d2da9f68",
   "metadata": {},
   "outputs": [],
   "source": []
  },
  {
   "cell_type": "code",
   "execution_count": null,
   "id": "af3ffe68",
   "metadata": {},
   "outputs": [],
   "source": []
  }
 ],
 "metadata": {
  "kernelspec": {
   "display_name": "LHL_env",
   "language": "python",
   "name": "lhl_env"
  },
  "language_info": {
   "codemirror_mode": {
    "name": "ipython",
    "version": 3
   },
   "file_extension": ".py",
   "mimetype": "text/x-python",
   "name": "python",
   "nbconvert_exporter": "python",
   "pygments_lexer": "ipython3",
   "version": "3.9.13"
  }
 },
 "nbformat": 4,
 "nbformat_minor": 5
}
